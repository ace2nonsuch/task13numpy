{
 "cells": [
  {
   "cell_type": "markdown",
   "id": "914c0555",
   "metadata": {},
   "source": [
    "\n",
    "\n",
    "1. Create a 6x6 NumPy array with random integers between 1 and 50. Display the array.\n",
    "\n",
    "2. Extract the following from the array you created in Question 1: The first two rows. The last three columns. All even numbers in the array.\n",
    "\n",
    "3. Perform the following array transformations: Reshape the array into a 3D (3, 2, 6) array. Flatten the reshaped array back to 1D.\n",
    "\n",
    "4. Generate a 4x4 identity matrix and replace the diagonal with numbers from 10 to 40, with a step of 10.\n",
    "\n",
    "5. Perform matrix multiplication between: A 3x4 matrix of random integers (1-10) A 4x3 matrix of random integers (1-10)\n",
    "\n",
    "6. Create a function that takes a 2D NumPy array as input and returns a new array where: All even numbers are squared. All odd numbers are replaced by -1."
   ]
  },
  {
   "cell_type": "code",
   "execution_count": null,
   "id": "924855be",
   "metadata": {},
   "outputs": [
    {
     "name": "stdout",
     "output_type": "stream",
     "text": [
      "[[34 29 36  8 43 39]\n",
      " [ 4 16 40  8 22 50]\n",
      " [50 50 34 17 49 47]\n",
      " [20 21 17 17 30 35]\n",
      " [20 24  9 44 13 24]\n",
      " [34 22 40 39 11 40]]\n"
     ]
    }
   ],
   "source": [
    "#1. Create a 6x6 NumPy array with random integers between 1 and 50. Display the array.\n",
    "import numpy as np\n",
    "import matplotlib.pyplot as plt\n",
    "import time\n",
    "import random\n",
    "\n",
    "random_array = np.random.randint(1, 51, size=(6, 6))\n",
    " \n",
    "\n",
    "print (random_array)"
   ]
  },
  {
   "cell_type": "code",
   "execution_count": null,
   "id": "9db6756e",
   "metadata": {},
   "outputs": [
    {
     "name": "stdout",
     "output_type": "stream",
     "text": [
      "\n",
      "First two rows:\n",
      " [[34 29 36  8 43 39]\n",
      " [ 4 16 40  8 22 50]]\n",
      "\n",
      "Last three columns:\n",
      " [[ 8 43 39]\n",
      " [ 8 22 50]\n",
      " [17 49 47]\n",
      " [17 30 35]\n",
      " [44 13 24]\n",
      " [39 11 40]]\n",
      "\n",
      "All even numbers:\n",
      " [34 36  8  4 16 40  8 22 50 50 50 34 20 30 20 24 44 24 34 22 40 40]\n"
     ]
    }
   ],
   "source": [
    "#2. Extract the following from the array you created in Question 1: The first two rows. The last three columns. All even numbers in the array.\n",
    "\n",
    "row = random_array[:2, :] #First two rows\n",
    "column = random_array[:, -3:] #last 3 columns\n",
    "even_numbers = random_array[random_array % 2 == 0]\n",
    "print(\"\\nFirst two rows:\\n\", row)\n",
    "print(\"\\nLast three columns:\\n\", column)\n",
    "print(\"\\nAll even numbers:\\n\", even_numbers)\n",
    "\n",
    "\n"
   ]
  },
  {
   "cell_type": "code",
   "execution_count": null,
   "id": "1ce6f51d",
   "metadata": {},
   "outputs": [
    {
     "name": "stdout",
     "output_type": "stream",
     "text": [
      "Reshaped to 3x2x6:\n",
      " [[[34 29 36  8 43 39]\n",
      "  [ 4 16 40  8 22 50]]\n",
      "\n",
      " [[50 50 34 17 49 47]\n",
      "  [20 21 17 17 30 35]]\n",
      "\n",
      " [[20 24  9 44 13 24]\n",
      "  [34 22 40 39 11 40]]]\n",
      "Flattened (copy): [34 29 36  8 43 39  4 16 40  8 22 50 50 50 34 17 49 47 20 21 17 17 30 35\n",
      " 20 24  9 44 13 24 34 22 40 39 11 40]\n"
     ]
    }
   ],
   "source": [
    "#3. Perform the following array transformations: Reshape the array into a 3D (3, 2, 6) array. Flatten the reshaped array back to 1D.\n",
    "\n",
    "# Reshape to 3D: 2 layers × 2 rows × 3 columns  \n",
    "reshaped_3d = random_array.reshape(3, 2, 6)\n",
    "print(\"Reshaped to 3x2x6:\\n\", reshaped_3d)\n",
    "\n",
    "# Flatten the reshaped array back to 1D\n",
    "flattened =  reshaped_3d.flatten()  # Using flatten() to create a copy                \n",
    "print(\"Flattened (copy):\", flattened)"
   ]
  },
  {
   "cell_type": "code",
   "execution_count": 18,
   "id": "ab86782c",
   "metadata": {},
   "outputs": [
    {
     "name": "stdout",
     "output_type": "stream",
     "text": [
      "Original identity matrix:\n",
      " [[1. 0. 0. 0.]\n",
      " [0. 1. 0. 0.]\n",
      " [0. 0. 1. 0.]\n",
      " [0. 0. 0. 1.]]\n",
      "Identity matrix with replaced diagonal:\n",
      " [[10.  0.  0.  0.]\n",
      " [ 0. 20.  0.  0.]\n",
      " [ 0.  0. 30.  0.]\n",
      " [ 0.  0.  0. 40.]]\n"
     ]
    }
   ],
   "source": [
    "#4. Generate a 4x4 identity matrix and replace the diagonal with numbers from 10 to 40, with a step of 10.\n",
    "identity_matrix = np.eye(4)\n",
    "print(\"Original identity matrix:\\n\", identity_matrix)   \n",
    "np.fill_diagonal(identity_matrix, [10, 20, 30, 40])\n",
    "print(\"Identity matrix with replaced diagonal:\\n\", identity_matrix)\n"
   ]
  },
  {
   "cell_type": "code",
   "execution_count": 20,
   "id": "ac322cc2",
   "metadata": {},
   "outputs": [
    {
     "name": "stdout",
     "output_type": "stream",
     "text": [
      "Matrix A:\n",
      " [[ 1  9  1  6]\n",
      " [ 7  9  9 10]\n",
      " [ 3  1  1  5]]\n",
      "Matrix B:\n",
      " [[ 7  4  6]\n",
      " [ 3  6 10]\n",
      " [ 3  9  5]\n",
      " [ 3  9  7]]\n",
      "The Product :\n",
      " [[ 55 121 143]\n",
      " [133 253 247]\n",
      " [ 42  72  68]]\n"
     ]
    }
   ],
   "source": [
    "#Perform matrix multiplication between: A 3x4 matrix of random integers (1-10) A 4x3 matrix of random integers (1-10)\n",
    "matrix_a = np.random.randint(1, 11, size=(3, 4))\n",
    "print(\"Matrix A:\\n\", matrix_a)\n",
    "matrix_b = np.random.randint(1, 11, size=(4, 3))\n",
    "print(\"Matrix B:\\n\", matrix_b)\n",
    "product = np.dot(matrix_a, matrix_b)    #or print(\"Product:\", arr1matrix_a * arr2matrix_b)\n",
    "print(\"The Product :\\n\", product)"
   ]
  },
  {
   "cell_type": "code",
   "execution_count": 21,
   "id": "fbb51c2b",
   "metadata": {},
   "outputs": [
    {
     "name": "stdout",
     "output_type": "stream",
     "text": [
      "\n",
      "Transformed array:\n",
      " [[1156   -1 1296   64   -1   -1]\n",
      " [  16  256 1600   64  484 2500]\n",
      " [2500 2500 1156   -1   -1   -1]\n",
      " [ 400   -1   -1   -1  900   -1]\n",
      " [ 400  576   -1 1936   -1  576]\n",
      " [1156  484 1600   -1   -1 1600]]\n"
     ]
    }
   ],
   "source": [
    " #Create a function that takes a 2D NumPy array as input and returns a new array where: All even numbers are squared. All odd numbers are replaced by -1.\n",
    "def transform_2d_array(arr):\n",
    "    transformed = np.where(arr % 2 == 0, arr**2, -1)\n",
    "    return transformed  \n",
    "transformed_array = transform_2d_array(random_array)\n",
    "print(\"\\nTransformed array:\\n\", transformed_array)\n"
   ]
  },
  {
   "cell_type": "markdown",
   "id": "2d997be9",
   "metadata": {},
   "source": []
  },
  {
   "cell_type": "code",
   "execution_count": null,
   "id": "869a9657",
   "metadata": {},
   "outputs": [],
   "source": [
    " "
   ]
  },
  {
   "cell_type": "code",
   "execution_count": null,
   "id": "13c862ff",
   "metadata": {},
   "outputs": [],
   "source": []
  },
  {
   "cell_type": "markdown",
   "id": "f296153b",
   "metadata": {},
   "source": []
  }
 ],
 "metadata": {
  "kernelspec": {
   "display_name": ".venv",
   "language": "python",
   "name": "python3"
  },
  "language_info": {
   "codemirror_mode": {
    "name": "ipython",
    "version": 3
   },
   "file_extension": ".py",
   "mimetype": "text/x-python",
   "name": "python",
   "nbconvert_exporter": "python",
   "pygments_lexer": "ipython3",
   "version": "3.13.7"
  }
 },
 "nbformat": 4,
 "nbformat_minor": 5
}
