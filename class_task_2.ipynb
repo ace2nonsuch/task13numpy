{
 "cells": [
  {
   "cell_type": "markdown",
   "id": "68e8882a",
   "metadata": {},
   "source": [
    "###Question 1:\n",
    "A = [[2 -1 3], [0 4 1]]\n",
    "\n",
    "B = [[ 1 2], [-2 0], [ 5 -3]]\n",
    "\n",
    "AB = [[ 2•1 + (-1•-2) + 3•5 2•2 + (-1•0) + 3•(-3)], [0•1 + 4•(-2) + 1•5 0•2 + 4•0 + 1•(-3)]]\n",
    "\n",
    "AB = [[19 -5], [-3 -3]]\n",
    "\n",
    "###a. A has 2 rows and 3 columns i.e it is a 2by3 matrix, while B has 3 rows and 2 columns i.e it is a 3by2 matrix.\n",
    "###b. The number of rows in A = number of rows in B, so  the matrix A can be multiplied by matrix B. both AB and BA multiplication are possible"
   ]
  },
  {
   "cell_type": "code",
   "execution_count": null,
   "id": "fc1f0173",
   "metadata": {},
   "outputs": [],
   "source": [
    "#!c.\n",
    "import numpy as np\n",
    "import pandas as pd\n",
    "import matplotlib.pyplot as plt\n",
    " "
   ]
  },
  {
   "cell_type": "code",
   "execution_count": 3,
   "id": "f60d9fdc",
   "metadata": {},
   "outputs": [
    {
     "name": "stdout",
     "output_type": "stream",
     "text": [
      "Matrix A:\n",
      "[[ 2 -1  3]\n",
      " [ 0  4  1]]\n",
      "\n",
      "Matrix B:\n",
      "[[ 1  2]\n",
      " [-2  0]\n",
      " [ 5 -3]]\n",
      "\n",
      "Matrix AB (A multiplied by B):\n",
      "[[19 -5]\n",
      " [-3 -3]]\n",
      "\n",
      "Matrix BA (B multiplied by A):\n",
      "[[  2   7   5]\n",
      " [ -4   2  -6]\n",
      " [ 10 -17  12]]\n"
     ]
    }
   ],
   "source": [
    "A = [[2, -1, 3], [0, 4, 1]]\n",
    "B = [[1, 2], [-2, 0], [5, -3]]\n",
    "AB = np.dot(A, B)\n",
    "BA = np.dot(B, A)\n",
    "print(\"Matrix A:\")\n",
    "print(np.array(A))\n",
    "print(\"\\nMatrix B:\")\n",
    "print(np.array(B))\n",
    "print(\"\\nMatrix AB (A multiplied by B):\")\n",
    "print(np.array(AB))\n",
    "print(\"\\nMatrix BA (B multiplied by A):\")\n",
    "print(np.array(BA))\n"
   ]
  }
 ],
 "metadata": {
  "kernelspec": {
   "display_name": "Python 3",
   "language": "python",
   "name": "python3"
  },
  "language_info": {
   "codemirror_mode": {
    "name": "ipython",
    "version": 3
   },
   "file_extension": ".py",
   "mimetype": "text/x-python",
   "name": "python",
   "nbconvert_exporter": "python",
   "pygments_lexer": "ipython3",
   "version": "3.13.5"
  }
 },
 "nbformat": 4,
 "nbformat_minor": 5
}
